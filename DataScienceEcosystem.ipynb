{
 "cells": [
  {
   "cell_type": "markdown",
   "id": "3ea1d4ff-932a-44d5-8c6e-94255658990a",
   "metadata": {},
   "source": [
    "# Data Science Tools and Ecosystem"
   ]
  },
  {
   "cell_type": "markdown",
   "id": "a9c96b6c-4118-426f-b97d-dab832ece0f6",
   "metadata": {},
   "source": [
    "In this notebook, Data Science Tools and Ecosystem are summarized."
   ]
  },
  {
   "cell_type": "markdown",
   "id": "b8a4b9c6-cfcf-4588-a545-10bd7ff75f42",
   "metadata": {},
   "source": [
    "**Objectves:**\n",
    " - List Commonly Used Libraries Used in Data Science\n",
    " - List Popular Languages Used in Data Science\n",
    " - List Commonly Used Open Source Tools Used in Data Science"
   ]
  },
  {
   "cell_type": "markdown",
   "id": "ae034f3d-a1fd-4607-a0eb-b6266836fc2b",
   "metadata": {},
   "source": [
    "Some of the commonly used libraries used by Data Scientists include:\n",
    "1. Pandas\n",
    "2. Seaborn\n",
    "3. Keras"
   ]
  },
  {
   "cell_type": "markdown",
   "id": "a3c49dcb-6c3c-43ee-bc7c-5fdb1e782b32",
   "metadata": {},
   "source": [
    "Some of the popular languages that Data Scientists use are:\n",
    "1. Python\n",
    "2. R\n",
    "3. SQL"
   ]
  },
  {
   "cell_type": "markdown",
   "id": "e7f53a1d-ece4-4e0c-b0a3-16cefc027e5a",
   "metadata": {
    "tags": []
   },
   "source": [
    "|Data Science Tools|\n",
    "| ----- |\n",
    "|RStudios|\n",
    "|GitHub|\n",
    "|Jupyter Notebooks|"
   ]
  },
  {
   "cell_type": "markdown",
   "id": "bdc1290a-90dd-4e68-8b63-88d3ce28f07f",
   "metadata": {},
   "source": [
    "Below are a few examples of evaluating arithmetic expressions in Python"
   ]
  },
  {
   "cell_type": "code",
   "execution_count": 4,
   "id": "8d5f1985-6395-4e68-a944-0d04e488cd09",
   "metadata": {},
   "outputs": [
    {
     "data": {
      "text/plain": [
       "17"
      ]
     },
     "execution_count": 4,
     "metadata": {},
     "output_type": "execute_result"
    }
   ],
   "source": [
    "# This a simple arithmetic expression to mutiply then add integers\n",
    "\n",
    "(3*4)+5"
   ]
  },
  {
   "cell_type": "code",
   "execution_count": 5,
   "id": "5c79d747-de68-43bb-aa9a-4ab4c721f25f",
   "metadata": {},
   "outputs": [
    {
     "data": {
      "text/plain": [
       "3.3333333333333335"
      ]
     },
     "execution_count": 5,
     "metadata": {},
     "output_type": "execute_result"
    }
   ],
   "source": [
    "# This will convert 200 minutes to hours by diving by 60\n",
    "\n",
    "200/60"
   ]
  },
  {
   "cell_type": "markdown",
   "id": "246103ad-39fe-4bd9-945f-22041ba0c454",
   "metadata": {},
   "source": [
    "## Author\n",
    "Jonathon Young"
   ]
  },
  {
   "cell_type": "code",
   "execution_count": null,
   "id": "6fc097d7-0eb3-4604-a98b-9570b6112ecc",
   "metadata": {},
   "outputs": [],
   "source": []
  }
 ],
 "metadata": {
  "kernelspec": {
   "display_name": "Python",
   "language": "python",
   "name": "conda-env-python-py"
  },
  "language_info": {
   "codemirror_mode": {
    "name": "ipython",
    "version": 3
   },
   "file_extension": ".py",
   "mimetype": "text/x-python",
   "name": "python",
   "nbconvert_exporter": "python",
   "pygments_lexer": "ipython3",
   "version": "3.7.12"
  }
 },
 "nbformat": 4,
 "nbformat_minor": 5
}
